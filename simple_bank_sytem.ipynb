{
 "cells": [
  {
   "cell_type": "code",
   "execution_count": null,
   "metadata": {},
   "outputs": [
    {
     "name": "stdout",
     "output_type": "stream",
     "text": [
      "You are Bankrupt\n",
      "Pick your choice.\n",
      "1. Withdraw\n",
      "2. Check Balance\n",
      "3. Break\n",
      "1\n",
      "You are Bankrupt\n",
      "Pick your choice.\n",
      "1. Withdraw\n",
      "2. Check Balance\n",
      "3. Break\n",
      "2\n",
      "You are Bankrupt\n",
      "Pick your choice.\n",
      "1. Withdraw\n",
      "2. Check Balance\n",
      "3. Break\n",
      "3\n",
      "You are Bankrupt\n",
      "Pick your choice.\n",
      "1. Withdraw\n",
      "2. Check Balance\n",
      "3. Break\n",
      "3\n",
      "You are Bankrupt\n",
      "Pick your choice.\n",
      "1. Withdraw\n",
      "2. Check Balance\n",
      "3. Break\n",
      "4\n",
      "You are Bankrupt\n",
      "Pick your choice.\n",
      "1. Withdraw\n",
      "2. Check Balance\n",
      "3. Break\n"
     ]
    }
   ],
   "source": [
    "# Design a simple bank system\n",
    "# Which asks for input like following\n",
    "#1.withdrawal\n",
    "#2.balance\n",
    "#3.break\n",
    "#use pyttsx3 to provide voice\n",
    "\n",
    "def bank():\n",
    "    print(\"Pick your choice.\")\n",
    "    print(\"1. Withdraw\")\n",
    "    print(\"2. Check Balance\")\n",
    "    print(\"3. Break\")\n",
    "    choice = int(input())\n",
    "\n",
    "while(choice != 3):\n",
    "    if(choice == 1):\n",
    "        print(\"Withdraw successfull.\")\n",
    "        bank()\n",
    "    elif(choice == 2):\n",
    "        print(\"You are Bankrupt\")\n",
    "        bank()\n",
    "    elif(choice == 3):\n",
    "        print(\"Checkout successfull. Thank you.\")\n",
    "        break\n",
    "    else:\n",
    "        print(\"Invalid input.\")\n"
   ]
  },
  {
   "cell_type": "code",
   "execution_count": null,
   "metadata": {},
   "outputs": [],
   "source": []
  },
  {
   "cell_type": "code",
   "execution_count": null,
   "metadata": {},
   "outputs": [],
   "source": []
  }
 ],
 "metadata": {
  "kernelspec": {
   "display_name": "Python 3",
   "language": "python",
   "name": "python3"
  },
  "language_info": {
   "codemirror_mode": {
    "name": "ipython",
    "version": 3
   },
   "file_extension": ".py",
   "mimetype": "text/x-python",
   "name": "python",
   "nbconvert_exporter": "python",
   "pygments_lexer": "ipython3",
   "version": "3.6.5"
  }
 },
 "nbformat": 4,
 "nbformat_minor": 2
}
